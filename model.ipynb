{
 "cells": [
  {
   "cell_type": "code",
   "execution_count": 1,
   "id": "0ee7b088-719f-464d-bece-5208b36f3cc0",
   "metadata": {},
   "outputs": [],
   "source": [
    "import pandas as pd\n",
    "import numpy as np\n",
    "from sklearn.model_selection import train_test_split\n",
    "from sklearn.preprocessing import StandardScaler\n",
    "from sklearn.svm import SVC\n",
    "from sklearn.metrics import accuracy_score"
   ]
  },
  {
   "cell_type": "code",
   "execution_count": 2,
   "id": "62ed55f0-af6a-464d-b747-e0b340c7cda0",
   "metadata": {},
   "outputs": [
    {
     "data": {
      "text/html": [
       "<div>\n",
       "<style scoped>\n",
       "    .dataframe tbody tr th:only-of-type {\n",
       "        vertical-align: middle;\n",
       "    }\n",
       "\n",
       "    .dataframe tbody tr th {\n",
       "        vertical-align: top;\n",
       "    }\n",
       "\n",
       "    .dataframe thead th {\n",
       "        text-align: right;\n",
       "    }\n",
       "</style>\n",
       "<table border=\"1\" class=\"dataframe\">\n",
       "  <thead>\n",
       "    <tr style=\"text-align: right;\">\n",
       "      <th></th>\n",
       "      <th>Unnamed: 0</th>\n",
       "      <th>0</th>\n",
       "      <th>1</th>\n",
       "      <th>2</th>\n",
       "      <th>3</th>\n",
       "      <th>4</th>\n",
       "      <th>5</th>\n",
       "      <th>6</th>\n",
       "      <th>7</th>\n",
       "      <th>8</th>\n",
       "      <th>...</th>\n",
       "      <th>54</th>\n",
       "      <th>55</th>\n",
       "      <th>56</th>\n",
       "      <th>57</th>\n",
       "      <th>58</th>\n",
       "      <th>59</th>\n",
       "      <th>60</th>\n",
       "      <th>61</th>\n",
       "      <th>62</th>\n",
       "      <th>63</th>\n",
       "    </tr>\n",
       "  </thead>\n",
       "  <tbody>\n",
       "    <tr>\n",
       "      <th>0</th>\n",
       "      <td>0</td>\n",
       "      <td>A</td>\n",
       "      <td>0.333183</td>\n",
       "      <td>0.523265</td>\n",
       "      <td>-2.637046e-07</td>\n",
       "      <td>0.385361</td>\n",
       "      <td>0.503769</td>\n",
       "      <td>-0.013716</td>\n",
       "      <td>0.422706</td>\n",
       "      <td>0.444723</td>\n",
       "      <td>...</td>\n",
       "      <td>-0.002247</td>\n",
       "      <td>0.323416</td>\n",
       "      <td>0.378506</td>\n",
       "      <td>-0.022287</td>\n",
       "      <td>0.323644</td>\n",
       "      <td>0.422384</td>\n",
       "      <td>-0.019616</td>\n",
       "      <td>0.324995</td>\n",
       "      <td>0.455620</td>\n",
       "      <td>-0.010600</td>\n",
       "    </tr>\n",
       "    <tr>\n",
       "      <th>1</th>\n",
       "      <td>1</td>\n",
       "      <td>A</td>\n",
       "      <td>0.528581</td>\n",
       "      <td>0.652466</td>\n",
       "      <td>-7.684470e-07</td>\n",
       "      <td>0.652475</td>\n",
       "      <td>0.579904</td>\n",
       "      <td>-0.023913</td>\n",
       "      <td>0.739387</td>\n",
       "      <td>0.451146</td>\n",
       "      <td>...</td>\n",
       "      <td>-0.049058</td>\n",
       "      <td>0.492610</td>\n",
       "      <td>0.381524</td>\n",
       "      <td>-0.076690</td>\n",
       "      <td>0.495572</td>\n",
       "      <td>0.467970</td>\n",
       "      <td>-0.061877</td>\n",
       "      <td>0.490743</td>\n",
       "      <td>0.525217</td>\n",
       "      <td>-0.040506</td>\n",
       "    </tr>\n",
       "    <tr>\n",
       "      <th>2</th>\n",
       "      <td>2</td>\n",
       "      <td>A</td>\n",
       "      <td>0.512290</td>\n",
       "      <td>0.778773</td>\n",
       "      <td>-1.667328e-06</td>\n",
       "      <td>0.368482</td>\n",
       "      <td>0.686174</td>\n",
       "      <td>-0.030363</td>\n",
       "      <td>0.275533</td>\n",
       "      <td>0.549703</td>\n",
       "      <td>...</td>\n",
       "      <td>-0.045573</td>\n",
       "      <td>0.587771</td>\n",
       "      <td>0.436126</td>\n",
       "      <td>-0.087660</td>\n",
       "      <td>0.571255</td>\n",
       "      <td>0.521158</td>\n",
       "      <td>-0.068152</td>\n",
       "      <td>0.570553</td>\n",
       "      <td>0.588763</td>\n",
       "      <td>-0.039370</td>\n",
       "    </tr>\n",
       "    <tr>\n",
       "      <th>3</th>\n",
       "      <td>3</td>\n",
       "      <td>A</td>\n",
       "      <td>0.319030</td>\n",
       "      <td>0.255755</td>\n",
       "      <td>-3.490743e-07</td>\n",
       "      <td>0.390657</td>\n",
       "      <td>0.250470</td>\n",
       "      <td>-0.032920</td>\n",
       "      <td>0.441378</td>\n",
       "      <td>0.235122</td>\n",
       "      <td>...</td>\n",
       "      <td>-0.040070</td>\n",
       "      <td>0.223607</td>\n",
       "      <td>0.192955</td>\n",
       "      <td>-0.064133</td>\n",
       "      <td>0.222574</td>\n",
       "      <td>0.239014</td>\n",
       "      <td>-0.056274</td>\n",
       "      <td>0.224313</td>\n",
       "      <td>0.272754</td>\n",
       "      <td>-0.043635</td>\n",
       "    </tr>\n",
       "    <tr>\n",
       "      <th>4</th>\n",
       "      <td>4</td>\n",
       "      <td>A</td>\n",
       "      <td>0.593707</td>\n",
       "      <td>0.645237</td>\n",
       "      <td>-4.712703e-07</td>\n",
       "      <td>0.672383</td>\n",
       "      <td>0.588389</td>\n",
       "      <td>-0.027547</td>\n",
       "      <td>0.727913</td>\n",
       "      <td>0.501210</td>\n",
       "      <td>...</td>\n",
       "      <td>-0.018379</td>\n",
       "      <td>0.506614</td>\n",
       "      <td>0.458735</td>\n",
       "      <td>-0.050773</td>\n",
       "      <td>0.527284</td>\n",
       "      <td>0.511171</td>\n",
       "      <td>-0.040954</td>\n",
       "      <td>0.541732</td>\n",
       "      <td>0.554525</td>\n",
       "      <td>-0.022673</td>\n",
       "    </tr>\n",
       "  </tbody>\n",
       "</table>\n",
       "<p>5 rows × 65 columns</p>\n",
       "</div>"
      ],
      "text/plain": [
       "   Unnamed: 0  0         1         2             3         4         5  \\\n",
       "0           0  A  0.333183  0.523265 -2.637046e-07  0.385361  0.503769   \n",
       "1           1  A  0.528581  0.652466 -7.684470e-07  0.652475  0.579904   \n",
       "2           2  A  0.512290  0.778773 -1.667328e-06  0.368482  0.686174   \n",
       "3           3  A  0.319030  0.255755 -3.490743e-07  0.390657  0.250470   \n",
       "4           4  A  0.593707  0.645237 -4.712703e-07  0.672383  0.588389   \n",
       "\n",
       "          6         7         8  ...        54        55        56        57  \\\n",
       "0 -0.013716  0.422706  0.444723  ... -0.002247  0.323416  0.378506 -0.022287   \n",
       "1 -0.023913  0.739387  0.451146  ... -0.049058  0.492610  0.381524 -0.076690   \n",
       "2 -0.030363  0.275533  0.549703  ... -0.045573  0.587771  0.436126 -0.087660   \n",
       "3 -0.032920  0.441378  0.235122  ... -0.040070  0.223607  0.192955 -0.064133   \n",
       "4 -0.027547  0.727913  0.501210  ... -0.018379  0.506614  0.458735 -0.050773   \n",
       "\n",
       "         58        59        60        61        62        63  \n",
       "0  0.323644  0.422384 -0.019616  0.324995  0.455620 -0.010600  \n",
       "1  0.495572  0.467970 -0.061877  0.490743  0.525217 -0.040506  \n",
       "2  0.571255  0.521158 -0.068152  0.570553  0.588763 -0.039370  \n",
       "3  0.222574  0.239014 -0.056274  0.224313  0.272754 -0.043635  \n",
       "4  0.527284  0.511171 -0.040954  0.541732  0.554525 -0.022673  \n",
       "\n",
       "[5 rows x 65 columns]"
      ]
     },
     "execution_count": 2,
     "metadata": {},
     "output_type": "execute_result"
    }
   ],
   "source": [
    "df = pd.read_csv('data.csv')\n",
    "df.head()"
   ]
  },
  {
   "cell_type": "code",
   "execution_count": 5,
   "id": "8ed72737-a77b-4570-9e22-70a1842c4497",
   "metadata": {},
   "outputs": [
    {
     "data": {
      "text/plain": [
       "0"
      ]
     },
     "execution_count": 5,
     "metadata": {},
     "output_type": "execute_result"
    }
   ],
   "source": [
    "df.duplicated().sum()"
   ]
  },
  {
   "cell_type": "code",
   "execution_count": 6,
   "id": "4e962550-53e4-4b4c-80db-7262e8096beb",
   "metadata": {},
   "outputs": [
    {
     "data": {
      "text/plain": [
       "Unnamed: 0    0\n",
       "0             0\n",
       "1             0\n",
       "2             0\n",
       "3             0\n",
       "             ..\n",
       "59            0\n",
       "60            0\n",
       "61            0\n",
       "62            0\n",
       "63            0\n",
       "Length: 65, dtype: int64"
      ]
     },
     "execution_count": 6,
     "metadata": {},
     "output_type": "execute_result"
    }
   ],
   "source": [
    "df.isnull().sum()"
   ]
  },
  {
   "cell_type": "code",
   "execution_count": 7,
   "id": "1ead81ad-c198-4105-b483-bb95ddbb4270",
   "metadata": {},
   "outputs": [
    {
     "name": "stdout",
     "output_type": "stream",
     "text": [
      "<class 'pandas.core.frame.DataFrame'>\n",
      "RangeIndex: 150253 entries, 0 to 150252\n",
      "Data columns (total 65 columns):\n",
      " #   Column      Non-Null Count   Dtype  \n",
      "---  ------      --------------   -----  \n",
      " 0   Unnamed: 0  150253 non-null  int64  \n",
      " 1   0           150253 non-null  object \n",
      " 2   1           150253 non-null  float64\n",
      " 3   2           150253 non-null  float64\n",
      " 4   3           150253 non-null  float64\n",
      " 5   4           150253 non-null  float64\n",
      " 6   5           150253 non-null  float64\n",
      " 7   6           150253 non-null  float64\n",
      " 8   7           150253 non-null  float64\n",
      " 9   8           150253 non-null  float64\n",
      " 10  9           150253 non-null  float64\n",
      " 11  10          150253 non-null  float64\n",
      " 12  11          150253 non-null  float64\n",
      " 13  12          150253 non-null  float64\n",
      " 14  13          150253 non-null  float64\n",
      " 15  14          150253 non-null  float64\n",
      " 16  15          150253 non-null  float64\n",
      " 17  16          150253 non-null  float64\n",
      " 18  17          150253 non-null  float64\n",
      " 19  18          150253 non-null  float64\n",
      " 20  19          150253 non-null  float64\n",
      " 21  20          150253 non-null  float64\n",
      " 22  21          150253 non-null  float64\n",
      " 23  22          150253 non-null  float64\n",
      " 24  23          150253 non-null  float64\n",
      " 25  24          150253 non-null  float64\n",
      " 26  25          150253 non-null  float64\n",
      " 27  26          150253 non-null  float64\n",
      " 28  27          150253 non-null  float64\n",
      " 29  28          150253 non-null  float64\n",
      " 30  29          150253 non-null  float64\n",
      " 31  30          150253 non-null  float64\n",
      " 32  31          150253 non-null  float64\n",
      " 33  32          150253 non-null  float64\n",
      " 34  33          150253 non-null  float64\n",
      " 35  34          150253 non-null  float64\n",
      " 36  35          150253 non-null  float64\n",
      " 37  36          150253 non-null  float64\n",
      " 38  37          150253 non-null  float64\n",
      " 39  38          150253 non-null  float64\n",
      " 40  39          150253 non-null  float64\n",
      " 41  40          150253 non-null  float64\n",
      " 42  41          150253 non-null  float64\n",
      " 43  42          150253 non-null  float64\n",
      " 44  43          150253 non-null  float64\n",
      " 45  44          150253 non-null  float64\n",
      " 46  45          150253 non-null  float64\n",
      " 47  46          150253 non-null  float64\n",
      " 48  47          150253 non-null  float64\n",
      " 49  48          150253 non-null  float64\n",
      " 50  49          150253 non-null  float64\n",
      " 51  50          150253 non-null  float64\n",
      " 52  51          150253 non-null  float64\n",
      " 53  52          150253 non-null  float64\n",
      " 54  53          150253 non-null  float64\n",
      " 55  54          150253 non-null  float64\n",
      " 56  55          150253 non-null  float64\n",
      " 57  56          150253 non-null  float64\n",
      " 58  57          150253 non-null  float64\n",
      " 59  58          150253 non-null  float64\n",
      " 60  59          150253 non-null  float64\n",
      " 61  60          150253 non-null  float64\n",
      " 62  61          150253 non-null  float64\n",
      " 63  62          150253 non-null  float64\n",
      " 64  63          150253 non-null  float64\n",
      "dtypes: float64(63), int64(1), object(1)\n",
      "memory usage: 74.5+ MB\n"
     ]
    }
   ],
   "source": [
    "df.info()"
   ]
  },
  {
   "cell_type": "code",
   "execution_count": 12,
   "id": "8476ee8c-fbc2-4e63-8c0c-db48c8fd77db",
   "metadata": {},
   "outputs": [],
   "source": [
    "x = df.values[:,2:]\n",
    "y = df.values[:,1]\n",
    "x_train, x_test, y_train, y_test = train_test_split(x, y, test_size=0.2, random_state=42)\n",
    "sc = StandardScaler()\n",
    "x_train = sc.fit_transform(x_train)\n",
    "x_test = sc.transform(x_test)"
   ]
  },
  {
   "cell_type": "code",
   "execution_count": 15,
   "id": "812e1d11-7bfa-4f24-99fe-97f0666b553a",
   "metadata": {},
   "outputs": [
    {
     "data": {
      "text/html": [
       "<style>#sk-container-id-2 {color: black;}#sk-container-id-2 pre{padding: 0;}#sk-container-id-2 div.sk-toggleable {background-color: white;}#sk-container-id-2 label.sk-toggleable__label {cursor: pointer;display: block;width: 100%;margin-bottom: 0;padding: 0.3em;box-sizing: border-box;text-align: center;}#sk-container-id-2 label.sk-toggleable__label-arrow:before {content: \"▸\";float: left;margin-right: 0.25em;color: #696969;}#sk-container-id-2 label.sk-toggleable__label-arrow:hover:before {color: black;}#sk-container-id-2 div.sk-estimator:hover label.sk-toggleable__label-arrow:before {color: black;}#sk-container-id-2 div.sk-toggleable__content {max-height: 0;max-width: 0;overflow: hidden;text-align: left;background-color: #f0f8ff;}#sk-container-id-2 div.sk-toggleable__content pre {margin: 0.2em;color: black;border-radius: 0.25em;background-color: #f0f8ff;}#sk-container-id-2 input.sk-toggleable__control:checked~div.sk-toggleable__content {max-height: 200px;max-width: 100%;overflow: auto;}#sk-container-id-2 input.sk-toggleable__control:checked~label.sk-toggleable__label-arrow:before {content: \"▾\";}#sk-container-id-2 div.sk-estimator input.sk-toggleable__control:checked~label.sk-toggleable__label {background-color: #d4ebff;}#sk-container-id-2 div.sk-label input.sk-toggleable__control:checked~label.sk-toggleable__label {background-color: #d4ebff;}#sk-container-id-2 input.sk-hidden--visually {border: 0;clip: rect(1px 1px 1px 1px);clip: rect(1px, 1px, 1px, 1px);height: 1px;margin: -1px;overflow: hidden;padding: 0;position: absolute;width: 1px;}#sk-container-id-2 div.sk-estimator {font-family: monospace;background-color: #f0f8ff;border: 1px dotted black;border-radius: 0.25em;box-sizing: border-box;margin-bottom: 0.5em;}#sk-container-id-2 div.sk-estimator:hover {background-color: #d4ebff;}#sk-container-id-2 div.sk-parallel-item::after {content: \"\";width: 100%;border-bottom: 1px solid gray;flex-grow: 1;}#sk-container-id-2 div.sk-label:hover label.sk-toggleable__label {background-color: #d4ebff;}#sk-container-id-2 div.sk-serial::before {content: \"\";position: absolute;border-left: 1px solid gray;box-sizing: border-box;top: 0;bottom: 0;left: 50%;z-index: 0;}#sk-container-id-2 div.sk-serial {display: flex;flex-direction: column;align-items: center;background-color: white;padding-right: 0.2em;padding-left: 0.2em;position: relative;}#sk-container-id-2 div.sk-item {position: relative;z-index: 1;}#sk-container-id-2 div.sk-parallel {display: flex;align-items: stretch;justify-content: center;background-color: white;position: relative;}#sk-container-id-2 div.sk-item::before, #sk-container-id-2 div.sk-parallel-item::before {content: \"\";position: absolute;border-left: 1px solid gray;box-sizing: border-box;top: 0;bottom: 0;left: 50%;z-index: -1;}#sk-container-id-2 div.sk-parallel-item {display: flex;flex-direction: column;z-index: 1;position: relative;background-color: white;}#sk-container-id-2 div.sk-parallel-item:first-child::after {align-self: flex-end;width: 50%;}#sk-container-id-2 div.sk-parallel-item:last-child::after {align-self: flex-start;width: 50%;}#sk-container-id-2 div.sk-parallel-item:only-child::after {width: 0;}#sk-container-id-2 div.sk-dashed-wrapped {border: 1px dashed gray;margin: 0 0.4em 0.5em 0.4em;box-sizing: border-box;padding-bottom: 0.4em;background-color: white;}#sk-container-id-2 div.sk-label label {font-family: monospace;font-weight: bold;display: inline-block;line-height: 1.2em;}#sk-container-id-2 div.sk-label-container {text-align: center;}#sk-container-id-2 div.sk-container {/* jupyter's `normalize.less` sets `[hidden] { display: none; }` but bootstrap.min.css set `[hidden] { display: none !important; }` so we also need the `!important` here to be able to override the default hidden behavior on the sphinx rendered scikit-learn.org. See: https://github.com/scikit-learn/scikit-learn/issues/21755 */display: inline-block !important;position: relative;}#sk-container-id-2 div.sk-text-repr-fallback {display: none;}</style><div id=\"sk-container-id-2\" class=\"sk-top-container\"><div class=\"sk-text-repr-fallback\"><pre>SVC(kernel=&#x27;linear&#x27;)</pre><b>In a Jupyter environment, please rerun this cell to show the HTML representation or trust the notebook. <br />On GitHub, the HTML representation is unable to render, please try loading this page with nbviewer.org.</b></div><div class=\"sk-container\" hidden><div class=\"sk-item\"><div class=\"sk-estimator sk-toggleable\"><input class=\"sk-toggleable__control sk-hidden--visually\" id=\"sk-estimator-id-2\" type=\"checkbox\" checked><label for=\"sk-estimator-id-2\" class=\"sk-toggleable__label sk-toggleable__label-arrow\">SVC</label><div class=\"sk-toggleable__content\"><pre>SVC(kernel=&#x27;linear&#x27;)</pre></div></div></div></div></div>"
      ],
      "text/plain": [
       "SVC(kernel='linear')"
      ]
     },
     "execution_count": 15,
     "metadata": {},
     "output_type": "execute_result"
    }
   ],
   "source": [
    "classifier = SVC(kernel='linear')\n",
    "classifier.fit(x_train, y_train)"
   ]
  },
  {
   "cell_type": "code",
   "execution_count": 17,
   "id": "2b2f6849-7bf3-4368-959d-c5d48dab6ef3",
   "metadata": {},
   "outputs": [
    {
     "data": {
      "text/plain": [
       "0.9798342817210741"
      ]
     },
     "execution_count": 17,
     "metadata": {},
     "output_type": "execute_result"
    }
   ],
   "source": [
    "y_predicted = classifier.predict(x_test)\n",
    "score = accuracy_score(y_test, y_predicted)\n",
    "score"
   ]
  },
  {
   "cell_type": "code",
   "execution_count": 18,
   "id": "bcd8818d-f98b-472d-a8f0-d0980235cbe3",
   "metadata": {},
   "outputs": [],
   "source": [
    "import pickle\n",
    "with open('svm_model.pkl', 'wb') as f:\n",
    "    pickle.dump((svm_model, scaler), f)\n",
    "\n",
    "# Load the trained model and scaler from the file using pickle\n",
    "with open('svm_model.pkl', 'rb') as f:\n",
    "    loaded_svm_model, loaded_scaler = pickle.load(f)\n"
   ]
  },
  {
   "cell_type": "code",
   "execution_count": null,
   "id": "ddccfa2b-8148-4faf-a49f-32c469df68ec",
   "metadata": {},
   "outputs": [],
   "source": []
  }
 ],
 "metadata": {
  "kernelspec": {
   "display_name": "env",
   "language": "python",
   "name": "env"
  },
  "language_info": {
   "codemirror_mode": {
    "name": "ipython",
    "version": 3
   },
   "file_extension": ".py",
   "mimetype": "text/x-python",
   "name": "python",
   "nbconvert_exporter": "python",
   "pygments_lexer": "ipython3",
   "version": "3.12.0"
  }
 },
 "nbformat": 4,
 "nbformat_minor": 5
}
